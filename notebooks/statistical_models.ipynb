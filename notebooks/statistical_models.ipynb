{
 "cells": [
  {
   "cell_type": "code",
   "execution_count": 8,
   "metadata": {},
   "outputs": [
    {
     "name": "stderr",
     "output_type": "stream",
     "text": [
      "C:\\Users\\Almazt\\AppData\\Local\\Temp\\ipykernel_2456\\318059357.py:9: DtypeWarning: Columns (32,37) have mixed types. Specify dtype option on import or set low_memory=False.\n",
      "  data = pd.read_csv('D:/Personal/Kifiya 10 Academy/Week 3/data/data.csv')\n"
     ]
    }
   ],
   "source": [
    "# 2. Test Statistical Models\n",
    "# a. Prepare the dataset for modeling:\n",
    "# •\tSplit into training and testing sets:\n",
    "\n",
    "import pandas as pd\n",
    "import numpy as np\n",
    "\n",
    "# Load the dataset\n",
    "data = pd.read_csv('D:/Personal/Kifiya 10 Academy/Week 3/data/data.csv')\n",
    "from sklearn.model_selection import train_test_split\n",
    "\n",
    "# Check if 'TotalPremium' column exists\n",
    "if 'TotalPremium' in data.columns:\n",
    "\tX = data.drop('TotalPremium', axis=1)\n",
    "\ty = data['TotalPremium']\n",
    "else:\n",
    "\traise KeyError(\"Column 'TotalPremium' not found in the dataset\")\n",
    "\n",
    "X_train, X_test, y_train, y_test = train_test_split(X, y, test_size=0.2, random_state=42)\n"
   ]
  },
  {
   "cell_type": "code",
   "execution_count": 9,
   "metadata": {},
   "outputs": [],
   "source": [
    "# b. Test Models\n",
    "# •\tLinear Regression:\n",
    "\n",
    "from sklearn.linear_model import LinearRegression\n",
    "\n",
    "# Clean and convert 'TransactionMonth' to datetime\n",
    "X_train['TransactionMonth'] = pd.to_datetime(X_train['TransactionMonth'], errors='coerce')\n",
    "X_test['TransactionMonth'] = pd.to_datetime(X_test['TransactionMonth'], errors='coerce')\n",
    "\n",
    "# Drop rows with NaT values in 'TransactionMonth'\n",
    "X_train = X_train.dropna(subset=['TransactionMonth'])\n",
    "X_test = X_test.dropna(subset=['TransactionMonth'])\n",
    "\n",
    "# Ensure y_train and y_test are aligned with X_train and X_test\n",
    "y_train = y_train[X_train.index]\n",
    "y_test = y_test[X_test.index]\n",
    "\n",
    "# Convert all columns to numeric, coerce errors to NaN, and fill NaN with 0\n",
    "X_train = X_train.apply(pd.to_numeric, errors='coerce').fillna(0)\n",
    "X_test = X_test.apply(pd.to_numeric, errors='coerce').fillna(0)\n",
    "\n",
    "# Fit the model\n",
    "lr = LinearRegression()\n",
    "lr.fit(X_train, y_train)\n",
    "y_pred_lr = lr.predict(X_test)\n"
   ]
  },
  {
   "cell_type": "code",
   "execution_count": 10,
   "metadata": {},
   "outputs": [],
   "source": [
    "# •\tDecision Trees:\n",
    "\n",
    "from sklearn.tree import DecisionTreeRegressor\n",
    "dt = DecisionTreeRegressor(max_depth=5, random_state=42)\n",
    "dt.fit(X_train, y_train)\n",
    "y_pred_dt = dt.predict(X_test)"
   ]
  },
  {
   "cell_type": "code",
   "execution_count": 11,
   "metadata": {},
   "outputs": [
    {
     "name": "stdout",
     "output_type": "stream",
     "text": [
      "Requirement already satisfied: xgboost in c:\\users\\almazt\\appdata\\local\\anaconda3\\envs\\myenv\\lib\\site-packages (2.1.3)Note: you may need to restart the kernel to use updated packages.\n",
      "\n",
      "Requirement already satisfied: numpy in c:\\users\\almazt\\appdata\\local\\anaconda3\\envs\\myenv\\lib\\site-packages (from xgboost) (2.0.2)\n",
      "Requirement already satisfied: scipy in c:\\users\\almazt\\appdata\\local\\anaconda3\\envs\\myenv\\lib\\site-packages (from xgboost) (1.14.1)\n"
     ]
    }
   ],
   "source": [
    "# •\tGradient Boosting (XGBoost):\n",
    "\n",
    "%pip install xgboost\n",
    "from xgboost import XGBRegressor\n",
    "xgb = XGBRegressor(n_estimators=100, learning_rate=0.1, max_depth=5, random_state=42)\n",
    "xgb.fit(X_train, y_train)\n",
    "y_pred_xgb = xgb.predict(X_test)"
   ]
  },
  {
   "cell_type": "code",
   "execution_count": 12,
   "metadata": {},
   "outputs": [
    {
     "name": "stdout",
     "output_type": "stream",
     "text": [
      "Linear Regression Metrics:\n",
      "MAE: 90.669181197405\n",
      "RMSE: 165.9928525042663\n",
      "R²: 0.0012524406857028492\n"
     ]
    }
   ],
   "source": [
    "# 3. Evaluate Models\n",
    "# Evaluate using metrics such as MAE, RMSE, and R2R^2R2:\n",
    "\n",
    "from sklearn.metrics import mean_absolute_error, mean_squared_error, r2_score\n",
    "import numpy as np\n",
    "\n",
    "# Evaluate Linear Regression\n",
    "print(\"Linear Regression Metrics:\")\n",
    "print(\"MAE:\", mean_absolute_error(y_test, y_pred_lr))\n",
    "print(\"RMSE:\", np.sqrt(mean_squared_error(y_test, y_pred_lr)))\n",
    "print(\"R²:\", r2_score(y_test, y_pred_lr))\n",
    "\n",
    "# Repeat for Decision Trees and XGBoost\n"
   ]
  },
  {
   "cell_type": "code",
   "execution_count": null,
   "metadata": {},
   "outputs": [
    {
     "ename": "TypeError",
     "evalue": "The passed model is not callable and cannot be analyzed directly with the given masker! Model: <module 'xgboost' from 'c:\\\\Users\\\\Almazt\\\\AppData\\\\Local\\\\anaconda3\\\\envs\\\\myenv\\\\lib\\\\site-packages\\\\xgboost\\\\__init__.py'>",
     "output_type": "error",
     "traceback": [
      "\u001b[1;31m---------------------------------------------------------------------------\u001b[0m",
      "\u001b[1;31mTypeError\u001b[0m                                 Traceback (most recent call last)",
      "Cell \u001b[1;32mIn[22], line 9\u001b[0m\n\u001b[0;32m      6\u001b[0m \u001b[38;5;28;01mimport\u001b[39;00m \u001b[38;5;21;01mshap\u001b[39;00m\n\u001b[0;32m      8\u001b[0m \u001b[38;5;66;03m# Initialize SHAP explainer\u001b[39;00m\n\u001b[1;32m----> 9\u001b[0m explainer \u001b[38;5;241m=\u001b[39m \u001b[43mshap\u001b[49m\u001b[38;5;241;43m.\u001b[39;49m\u001b[43mExplainer\u001b[49m\u001b[43m(\u001b[49m\u001b[43mxgb\u001b[49m\u001b[43m,\u001b[49m\u001b[43m \u001b[49m\u001b[43mX_test\u001b[49m\u001b[43m)\u001b[49m\n\u001b[0;32m     10\u001b[0m shap_values \u001b[38;5;241m=\u001b[39m explainer(X_test)\n\u001b[0;32m     12\u001b[0m \u001b[38;5;66;03m# Summary plot\u001b[39;00m\n",
      "File \u001b[1;32mc:\\Users\\Almazt\\AppData\\Local\\anaconda3\\envs\\myenv\\lib\\site-packages\\shap\\explainers\\_explainer.py:174\u001b[0m, in \u001b[0;36mExplainer.__init__\u001b[1;34m(self, model, masker, link, algorithm, output_names, feature_names, linearize_link, seed, **kwargs)\u001b[0m\n\u001b[0;32m    170\u001b[0m             algorithm \u001b[38;5;241m=\u001b[39m \u001b[38;5;124m\"\u001b[39m\u001b[38;5;124mpermutation\u001b[39m\u001b[38;5;124m\"\u001b[39m\n\u001b[0;32m    172\u001b[0m     \u001b[38;5;66;03m# if we get here then we don't know how to handle what was given to us\u001b[39;00m\n\u001b[0;32m    173\u001b[0m     \u001b[38;5;28;01melse\u001b[39;00m:\n\u001b[1;32m--> 174\u001b[0m         \u001b[38;5;28;01mraise\u001b[39;00m \u001b[38;5;167;01mTypeError\u001b[39;00m(\u001b[38;5;124m\"\u001b[39m\u001b[38;5;124mThe passed model is not callable and cannot be analyzed directly with the given masker! Model: \u001b[39m\u001b[38;5;124m\"\u001b[39m \u001b[38;5;241m+\u001b[39m \u001b[38;5;28mstr\u001b[39m(model))\n\u001b[0;32m    176\u001b[0m \u001b[38;5;66;03m# build the right subclass\u001b[39;00m\n\u001b[0;32m    177\u001b[0m \u001b[38;5;28;01mif\u001b[39;00m algorithm \u001b[38;5;241m==\u001b[39m \u001b[38;5;124m\"\u001b[39m\u001b[38;5;124mexact\u001b[39m\u001b[38;5;124m\"\u001b[39m:\n",
      "\u001b[1;31mTypeError\u001b[0m: The passed model is not callable and cannot be analyzed directly with the given masker! Model: <module 'xgboost' from 'c:\\\\Users\\\\Almazt\\\\AppData\\\\Local\\\\anaconda3\\\\envs\\\\myenv\\\\lib\\\\site-packages\\\\xgboost\\\\__init__.py'>"
     ]
    }
   ],
   "source": [
    "# 4. Model Interpretability\n",
    "# Use SHAP or LIME to explain predictions and gain actionable insights.\n",
    "# a. Using SHAP:\n",
    "\n",
    "\n",
    "import shap\n",
    "import xgboost as xgb\n",
    "import pandas as pd\n",
    "from sklearn.model_selection import train_test_split\n",
    "\n",
    "# Initialize SHAP explainer\n",
    "explainer = shap.Explainer(xgb, X_test)\n",
    "shap_values = explainer(X_test)\n",
    "\n",
    "# Summary plot\n",
    "shap.summary_plot(shap_values, X_test)\n"
   ]
  },
  {
   "cell_type": "code",
   "execution_count": 15,
   "metadata": {},
   "outputs": [
    {
     "name": "stdout",
     "output_type": "stream",
     "text": [
      "Requirement already satisfied: lime in c:\\users\\almazt\\appdata\\local\\anaconda3\\envs\\myenv\\lib\\site-packages (0.2.0.1)Note: you may need to restart the kernel to use updated packages.\n",
      "\n",
      "Requirement already satisfied: matplotlib in c:\\users\\almazt\\appdata\\local\\anaconda3\\envs\\myenv\\lib\\site-packages (from lime) (3.10.0)\n",
      "Requirement already satisfied: numpy in c:\\users\\almazt\\appdata\\local\\anaconda3\\envs\\myenv\\lib\\site-packages (from lime) (2.0.2)\n",
      "Requirement already satisfied: scipy in c:\\users\\almazt\\appdata\\local\\anaconda3\\envs\\myenv\\lib\\site-packages (from lime) (1.14.1)\n",
      "Requirement already satisfied: tqdm in c:\\users\\almazt\\appdata\\local\\anaconda3\\envs\\myenv\\lib\\site-packages (from lime) (4.67.1)\n",
      "Requirement already satisfied: scikit-learn>=0.18 in c:\\users\\almazt\\appdata\\local\\anaconda3\\envs\\myenv\\lib\\site-packages (from lime) (1.6.0)\n",
      "Requirement already satisfied: scikit-image>=0.12 in c:\\users\\almazt\\appdata\\local\\anaconda3\\envs\\myenv\\lib\\site-packages (from lime) (0.25.0)\n",
      "Requirement already satisfied: networkx>=3.0 in c:\\users\\almazt\\appdata\\local\\anaconda3\\envs\\myenv\\lib\\site-packages (from scikit-image>=0.12->lime) (3.4.2)\n",
      "Requirement already satisfied: pillow>=10.1 in c:\\users\\almazt\\appdata\\local\\anaconda3\\envs\\myenv\\lib\\site-packages (from scikit-image>=0.12->lime) (11.0.0)\n",
      "Requirement already satisfied: imageio!=2.35.0,>=2.33 in c:\\users\\almazt\\appdata\\local\\anaconda3\\envs\\myenv\\lib\\site-packages (from scikit-image>=0.12->lime) (2.36.1)\n",
      "Requirement already satisfied: tifffile>=2022.8.12 in c:\\users\\almazt\\appdata\\local\\anaconda3\\envs\\myenv\\lib\\site-packages (from scikit-image>=0.12->lime) (2024.12.12)\n",
      "Requirement already satisfied: packaging>=21 in c:\\users\\almazt\\appdata\\local\\anaconda3\\envs\\myenv\\lib\\site-packages (from scikit-image>=0.12->lime) (24.2)\n",
      "Requirement already satisfied: lazy-loader>=0.4 in c:\\users\\almazt\\appdata\\local\\anaconda3\\envs\\myenv\\lib\\site-packages (from scikit-image>=0.12->lime) (0.4)\n",
      "Requirement already satisfied: joblib>=1.2.0 in c:\\users\\almazt\\appdata\\local\\anaconda3\\envs\\myenv\\lib\\site-packages (from scikit-learn>=0.18->lime) (1.4.2)\n",
      "Requirement already satisfied: threadpoolctl>=3.1.0 in c:\\users\\almazt\\appdata\\local\\anaconda3\\envs\\myenv\\lib\\site-packages (from scikit-learn>=0.18->lime) (3.5.0)\n",
      "Requirement already satisfied: contourpy>=1.0.1 in c:\\users\\almazt\\appdata\\local\\anaconda3\\envs\\myenv\\lib\\site-packages (from matplotlib->lime) (1.3.1)\n",
      "Requirement already satisfied: cycler>=0.10 in c:\\users\\almazt\\appdata\\local\\anaconda3\\envs\\myenv\\lib\\site-packages (from matplotlib->lime) (0.12.1)\n",
      "Requirement already satisfied: fonttools>=4.22.0 in c:\\users\\almazt\\appdata\\local\\anaconda3\\envs\\myenv\\lib\\site-packages (from matplotlib->lime) (4.55.3)\n",
      "Requirement already satisfied: kiwisolver>=1.3.1 in c:\\users\\almazt\\appdata\\local\\anaconda3\\envs\\myenv\\lib\\site-packages (from matplotlib->lime) (1.4.7)\n",
      "Requirement already satisfied: pyparsing>=2.3.1 in c:\\users\\almazt\\appdata\\local\\anaconda3\\envs\\myenv\\lib\\site-packages (from matplotlib->lime) (3.2.0)\n",
      "Requirement already satisfied: python-dateutil>=2.7 in c:\\users\\almazt\\appdata\\local\\anaconda3\\envs\\myenv\\lib\\site-packages (from matplotlib->lime) (2.9.0.post0)\n",
      "Requirement already satisfied: colorama in c:\\users\\almazt\\appdata\\local\\anaconda3\\envs\\myenv\\lib\\site-packages (from tqdm->lime) (0.4.6)\n",
      "Requirement already satisfied: six>=1.5 in c:\\users\\almazt\\appdata\\local\\anaconda3\\envs\\myenv\\lib\\site-packages (from python-dateutil>=2.7->matplotlib->lime) (1.17.0)\n"
     ]
    },
    {
     "ename": "AttributeError",
     "evalue": "module 'xgboost' has no attribute 'predict'",
     "output_type": "error",
     "traceback": [
      "\u001b[1;31m---------------------------------------------------------------------------\u001b[0m",
      "\u001b[1;31mAttributeError\u001b[0m                            Traceback (most recent call last)",
      "Cell \u001b[1;32mIn[15], line 13\u001b[0m\n\u001b[0;32m      7\u001b[0m explainer \u001b[38;5;241m=\u001b[39m LimeTabularExplainer(X_train\u001b[38;5;241m.\u001b[39mvalues, \n\u001b[0;32m      8\u001b[0m                                  feature_names\u001b[38;5;241m=\u001b[39mX_train\u001b[38;5;241m.\u001b[39mcolumns, \n\u001b[0;32m      9\u001b[0m                                  class_names\u001b[38;5;241m=\u001b[39m[\u001b[38;5;124m'\u001b[39m\u001b[38;5;124mtarget\u001b[39m\u001b[38;5;124m'\u001b[39m],\n\u001b[0;32m     10\u001b[0m                                  mode\u001b[38;5;241m=\u001b[39m\u001b[38;5;124m'\u001b[39m\u001b[38;5;124mregression\u001b[39m\u001b[38;5;124m'\u001b[39m)\n\u001b[0;32m     12\u001b[0m \u001b[38;5;66;03m# Explain a single prediction\u001b[39;00m\n\u001b[1;32m---> 13\u001b[0m exp \u001b[38;5;241m=\u001b[39m explainer\u001b[38;5;241m.\u001b[39mexplain_instance(X_test\u001b[38;5;241m.\u001b[39miloc[\u001b[38;5;241m0\u001b[39m]\u001b[38;5;241m.\u001b[39mvalues, \u001b[43mxgb\u001b[49m\u001b[38;5;241;43m.\u001b[39;49m\u001b[43mpredict\u001b[49m, num_features\u001b[38;5;241m=\u001b[39m\u001b[38;5;241m5\u001b[39m)\n\u001b[0;32m     14\u001b[0m exp\u001b[38;5;241m.\u001b[39mshow_in_notebook()\n",
      "\u001b[1;31mAttributeError\u001b[0m: module 'xgboost' has no attribute 'predict'"
     ]
    }
   ],
   "source": [
    "# b. Using LIME:\n",
    "\n",
    "%pip install lime\n",
    "from lime.lime_tabular import LimeTabularExplainer\n",
    "\n",
    "# Create a LIME explainer\n",
    "explainer = LimeTabularExplainer(X_train.values, \n",
    "                                 feature_names=X_train.columns, \n",
    "                                 class_names=['target'],\n",
    "                                 mode='regression')\n",
    "\n",
    "# Explain a single prediction\n",
    "exp = explainer.explain_instance(X_test.iloc[0].values, xgb.predict, num_features=5)\n",
    "exp.show_in_notebook()"
   ]
  }
 ],
 "metadata": {
  "kernelspec": {
   "display_name": "myenv",
   "language": "python",
   "name": "python3"
  },
  "language_info": {
   "codemirror_mode": {
    "name": "ipython",
    "version": 3
   },
   "file_extension": ".py",
   "mimetype": "text/x-python",
   "name": "python",
   "nbconvert_exporter": "python",
   "pygments_lexer": "ipython3",
   "version": "3.10.16"
  }
 },
 "nbformat": 4,
 "nbformat_minor": 2
}
