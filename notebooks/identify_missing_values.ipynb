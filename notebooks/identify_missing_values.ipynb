{
 "cells": [
  {
   "cell_type": "code",
   "execution_count": 7,
   "metadata": {},
   "outputs": [
    {
     "name": "stderr",
     "output_type": "stream",
     "text": [
      "C:\\Users\\Almazt\\AppData\\Local\\Temp\\ipykernel_18460\\685532657.py:4: DtypeWarning: Columns (32,37) have mixed types. Specify dtype option on import or set low_memory=False.\n",
      "  data = pd.read_csv('D:\\Personal\\Kifiya 10 Academy\\Week 3\\data\\data.csv')\n"
     ]
    },
    {
     "name": "stdout",
     "output_type": "stream",
     "text": [
      "UnderwrittenCoverID               0\n",
      "PolicyID                          0\n",
      "TransactionMonth                  0\n",
      "IsVATRegistered                   0\n",
      "Citizenship                       0\n",
      "LegalType                         0\n",
      "Title                             0\n",
      "Language                          0\n",
      "Bank                         145961\n",
      "AccountType                   40232\n",
      "MaritalStatus                  8259\n",
      "Gender                         9536\n",
      "Country                           0\n",
      "Province                          0\n",
      "PostalCode                        0\n",
      "MainCrestaZone                    0\n",
      "SubCrestaZone                     0\n",
      "ItemType                          0\n",
      "mmcode                          552\n",
      "VehicleType                     552\n",
      "RegistrationYear                  0\n",
      "make                            552\n",
      "Model                           552\n",
      "Cylinders                       552\n",
      "cubiccapacity                   552\n",
      "kilowatts                       552\n",
      "bodytype                        552\n",
      "NumberOfDoors                   552\n",
      "VehicleIntroDate                552\n",
      "CustomValueEstimate          779642\n",
      "AlarmImmobiliser                  0\n",
      "TrackingDevice                    0\n",
      "CapitalOutstanding                2\n",
      "NewVehicle                   153295\n",
      "WrittenOff                   641901\n",
      "Rebuilt                      641901\n",
      "Converted                    641901\n",
      "CrossBorder                  999400\n",
      "NumberOfVehiclesInFleet     1000098\n",
      "SumInsured                        0\n",
      "TermFrequency                     0\n",
      "CalculatedPremiumPerTerm          0\n",
      "ExcessSelected                    0\n",
      "CoverCategory                     0\n",
      "CoverType                         0\n",
      "CoverGroup                        0\n",
      "Section                           0\n",
      "Product                           0\n",
      "StatutoryClass                    0\n",
      "StatutoryRiskType                 0\n",
      "TotalPremium                      0\n",
      "TotalClaims                       0\n",
      "dtype: int64\n"
     ]
    }
   ],
   "source": [
    "import pandas as pd\n",
    "\n",
    "# Load the dataset\n",
    "data = pd.read_csv('D:\\Personal\\Kifiya 10 Academy\\Week 3\\data\\data.csv')\n",
    "\n",
    "# Check for missing values\n",
    "print(data.isnull().sum());\n"
   ]
  },
  {
   "cell_type": "code",
   "execution_count": null,
   "metadata": {},
   "outputs": [
    {
     "ename": "NameError",
     "evalue": "name 'data' is not defined",
     "output_type": "error",
     "traceback": [
      "\u001b[1;31m---------------------------------------------------------------------------\u001b[0m",
      "\u001b[1;31mNameError\u001b[0m                                 Traceback (most recent call last)",
      "Cell \u001b[1;32mIn[11], line 9\u001b[0m\n\u001b[0;32m      5\u001b[0m \u001b[38;5;66;03m# msno.matrix(data, figsize=(10, 6), color=(0.25, 0.5, 0.9))  # Adjust size and color\u001b[39;00m\n\u001b[0;32m      6\u001b[0m plt\u001b[38;5;241m.\u001b[39mtitle(\u001b[38;5;124m\"\u001b[39m\u001b[38;5;124mMissing Data Visualization\u001b[39m\u001b[38;5;124m\"\u001b[39m, fontsize\u001b[38;5;241m=\u001b[39m\u001b[38;5;241m16\u001b[39m)\n\u001b[0;32m      8\u001b[0m plt\u001b[38;5;241m.\u001b[39mxticks(\n\u001b[1;32m----> 9\u001b[0m     \u001b[38;5;28mrange\u001b[39m(\u001b[43mdata\u001b[49m\u001b[38;5;241m.\u001b[39mshape[\u001b[38;5;241m1\u001b[39m]),          \n\u001b[0;32m     10\u001b[0m     data\u001b[38;5;241m.\u001b[39mcolumns,                  \n\u001b[0;32m     11\u001b[0m     rotation\u001b[38;5;241m=\u001b[39m\u001b[38;5;241m90\u001b[39m, fontsize\u001b[38;5;241m=\u001b[39m\u001b[38;5;241m10\u001b[39m        \n\u001b[0;32m     12\u001b[0m )\n\u001b[0;32m     13\u001b[0m plt\u001b[38;5;241m.\u001b[39mshow()\n",
      "\u001b[1;31mNameError\u001b[0m: name 'data' is not defined"
     ]
    },
    {
     "data": {
      "image/png": "[encoded data removed]",
      "text/plain": [
       "<Figure size 640x480 with 1 Axes>"
      ]
     },
     "metadata": {},
     "output_type": "display_data"
    }
   ],
   "source": [
    "\"\"\" import missingno as msno\n",
    "import matplotlib.pyplot as plt\n",
    "\n",
    "\n",
    "msno.matrix(data, figsize=(10, 6), color=(0.25, 0.5, 0.9))  # Adjust size and color\n",
    "plt.title(\"Missing Data Visualization\", fontsize=16)\n",
    "\n",
    "plt.xticks(\n",
    "    range(data.shape[1]),          \n",
    "    data.columns,                  \n",
    "    rotation=90, fontsize=10        \n",
    ")\n",
    "plt.show() \"\"\""
   ]
  }
 ],
 "metadata": {
  "kernelspec": {
   "display_name": "myenv",
   "language": "python",
   "name": "python3"
  },
  "language_info": {
   "codemirror_mode": {
    "name": "ipython",
    "version": 3
   },
   "file_extension": ".py",
   "mimetype": "text/x-python",
   "name": "python",
   "nbconvert_exporter": "python",
   "pygments_lexer": "ipython3",
   "version": "3.10.16"
  }
 },
 "nbformat": 4,
 "nbformat_minor": 2
}
