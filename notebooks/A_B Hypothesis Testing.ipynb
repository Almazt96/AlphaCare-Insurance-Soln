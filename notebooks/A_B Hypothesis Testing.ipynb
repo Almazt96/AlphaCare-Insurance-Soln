{
 "cells": [
  {
   "cell_type": "code",
   "execution_count": 4,
   "metadata": {},
   "outputs": [
    {
     "name": "stderr",
     "output_type": "stream",
     "text": [
      "C:\\Users\\Almazt\\AppData\\Local\\Temp\\ipykernel_45828\\2288784239.py:7: DtypeWarning: Columns (32,37) have mixed types. Specify dtype option on import or set low_memory=False.\n",
      "  data = pd.read_csv('D:/Personal/Kifiya 10 Academy/Week 3/data/data.csv')\n"
     ]
    },
    {
     "name": "stdout",
     "output_type": "stream",
     "text": [
      "Normality Test p-value: 1.0796523547691781e-228\n"
     ]
    },
    {
     "name": "stderr",
     "output_type": "stream",
     "text": [
      "c:\\Users\\Almazt\\AppData\\Local\\anaconda3\\Lib\\site-packages\\scipy\\stats\\_axis_nan_policy.py:531: UserWarning: scipy.stats.shapiro: For N > 5000, computed p-value may not be accurate. Current N is 1000098.\n",
      "  res = hypotest_fun_out(*samples, **kwds)\n"
     ]
    }
   ],
   "source": [
    "# Steps for Testing:\n",
    "# Check for Normality:\n",
    "import pandas as pd\n",
    "from scipy.stats import shapiro\n",
    "\n",
    "# Load the dataset\n",
    "data = pd.read_csv('D:/Personal/Kifiya 10 Academy/Week 3/data/data.csv')\n",
    "\n",
    "# Replace 'risk_metric' with the correct column name\n",
    "stat, p_value = shapiro(data['TotalPremium'])\n",
    "print(\"Normality Test p-value:\", p_value)\n",
    "# If p-value >= 0.05, data is normal."
   ]
  },
  {
   "cell_type": "code",
   "execution_count": 8,
   "metadata": {},
   "outputs": [
    {
     "name": "stderr",
     "output_type": "stream",
     "text": [
      "C:\\Users\\Almazt\\AppData\\Local\\Temp\\ipykernel_45828\\2327648503.py:7: DtypeWarning: Columns (32,37) have mixed types. Specify dtype option on import or set low_memory=False.\n",
      "  data = pd.read_csv('D:/Personal/Kifiya 10 Academy/Week 3/data/data.csv')\n"
     ]
    },
    {
     "name": "stdout",
     "output_type": "stream",
     "text": [
      "Chi-squared Test p-value: 0.0\n"
     ]
    }
   ],
   "source": [
    "# Run Appropriate Test:\n",
    "# Chi-squared Test:\n",
    "\n",
    "from scipy.stats import chi2_contingency\n",
    "\n",
    "# Load the dataset\n",
    "data = pd.read_csv('D:/Personal/Kifiya 10 Academy/Week 3/data/data.csv')\n",
    "\n",
    "# Replace 'risk_category' with the correct column name\n",
    "contingency_table = pd.crosstab(data['Province'], data['CoverCategory'])\n",
    "stat, p_value, dof, expected = chi2_contingency(contingency_table)\n",
    "print(\"Chi-squared Test p-value:\", p_value)\n"
   ]
  },
  {
   "cell_type": "code",
   "execution_count": 10,
   "metadata": {},
   "outputs": [
    {
     "name": "stderr",
     "output_type": "stream",
     "text": [
      "C:\\Users\\Almazt\\AppData\\Local\\Temp\\ipykernel_45828\\2343265073.py:6: DtypeWarning: Columns (32,37) have mixed types. Specify dtype option on import or set low_memory=False.\n",
      "  data = pd.read_csv('D:/Personal/Kifiya 10 Academy/Week 3/data/data.csv')\n"
     ]
    },
    {
     "name": "stdout",
     "output_type": "stream",
     "text": [
      "T-Test p-value: 0.2171722642380447\n"
     ]
    }
   ],
   "source": [
    "# t-test for Numeric Data:\n",
    "\n",
    "from scipy.stats import ttest_ind\n",
    "\n",
    "# Load the dataset\n",
    "data = pd.read_csv('D:/Personal/Kifiya 10 Academy/Week 3/data/data.csv')\n",
    "\n",
    "# Replace 'control_group' and 'test_group' with the correct column names\n",
    "stat, p_value = ttest_ind(data['TotalPremium'], data['TotalClaims'])\n",
    "print(\"T-Test p-value:\", p_value)\n",
    "# Interpret the p-value:\n",
    "\n",
    "# p-value < 0.05: Reject H₀, significant difference exists.\n",
    "# p-value ≥ 0.05: Fail to reject H₀, no significant difference."
   ]
  }
 ],
 "metadata": {
  "kernelspec": {
   "display_name": "Python (myenv)",
   "language": "python",
   "name": "myenv"
  },
  "language_info": {
   "codemirror_mode": {
    "name": "ipython",
    "version": 3
   },
   "file_extension": ".py",
   "mimetype": "text/x-python",
   "name": "python",
   "nbconvert_exporter": "python",
   "pygments_lexer": "ipython3",
   "version": "3.12.7"
  }
 },
 "nbformat": 4,
 "nbformat_minor": 2
}
