{
 "cells": [
  {
   "cell_type": "code",
   "execution_count": 1,
   "metadata": {},
   "outputs": [
    {
     "name": "stderr",
     "output_type": "stream",
     "text": [
      "C:\\Users\\Almazt\\AppData\\Local\\Temp\\ipykernel_52904\\919732135.py:11: DtypeWarning: Columns (32,37) have mixed types. Specify dtype option on import or set low_memory=False.\n",
      "  data = pd.read_csv('D:/Personal/Kifiya 10 Academy/Week 3/data/data.csv')\n"
     ]
    }
   ],
   "source": [
    "# b. Perform Feature Engineering\n",
    "# •\tCreate new features: Derive features from existing ones.\n",
    "\n",
    "# Install pandas and numpy if not already installed\n",
    "# %pip install pandas numpy\n",
    "\n",
    "import pandas as pd\n",
    "import numpy as np\n",
    "\n",
    "# Load the dataset\n",
    "data = pd.read_csv('D:/Personal/Kifiya 10 Academy/Week 3/data/data.csv')\n",
    "\n",
    "# Example: Create a log-transformed feature\n",
    "data['log_feature'] = np.log1p(data['CalculatedPremiumPerTerm'])  \n"
   ]
  },
  {
   "cell_type": "code",
   "execution_count": 2,
   "metadata": {},
   "outputs": [],
   "source": [
    "# Normalize numerical features:\n",
    "\n",
    "# Install scikit-learn if not already installed\n",
    "# %pip install scikit-learn\n",
    "\n",
    "from sklearn.preprocessing import LabelEncoder\n",
    "\n",
    "data = pd.DataFrame({\n",
    "    'Title': ['Mr', 'Mrs', 'Miss', 'Ms', 'Mrs', 'Dr'],\n",
    "    'Gender': ['Male', 'Female', 'Female', 'Female', 'Female','Not specified'],\n",
    "  \n",
    "})\n",
    "\n",
    "label_encoders = {}\n",
    "for column in ['Title', 'Gender']:\n",
    "    le = LabelEncoder()\n",
    "    data[column] = le.fit_transform(data[column])\n",
    "    label_encoders[column] = le"
   ]
  }
 ],
 "metadata": {
  "kernelspec": {
   "display_name": "Python (myenv)",
   "language": "python",
   "name": "myenv"
  },
  "language_info": {
   "codemirror_mode": {
    "name": "ipython",
    "version": 3
   },
   "file_extension": ".py",
   "mimetype": "text/x-python",
   "name": "python",
   "nbconvert_exporter": "python",
   "pygments_lexer": "ipython3",
   "version": "3.12.7"
  }
 },
 "nbformat": 4,
 "nbformat_minor": 2
}
